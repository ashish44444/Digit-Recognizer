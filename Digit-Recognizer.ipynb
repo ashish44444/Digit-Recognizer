{
 "cells": [
  {
   "cell_type": "code",
   "execution_count": 1,
   "metadata": {
    "colab": {
     "autoexec": {
      "startup": false,
      "wait_interval": 0
     },
     "base_uri": "https://localhost:8080/",
     "height": 34
    },
    "colab_type": "code",
    "executionInfo": {
     "elapsed": 5120,
     "status": "ok",
     "timestamp": 1525318236802,
     "user": {
      "displayName": "ashish ranjan",
      "photoUrl": "//lh6.googleusercontent.com/-toGK4s0e7_Y/AAAAAAAAAAI/AAAAAAAAEwY/dIdQ8V-oKPQ/s50-c-k-no/photo.jpg",
      "userId": "115059506040310042480"
     },
     "user_tz": -330
    },
    "id": "RPLil-8PDDgY",
    "outputId": "ab090987-a229-495e-bfea-c17a9af72e05"
   },
   "outputs": [
    {
     "name": "stderr",
     "output_type": "stream",
     "text": [
      "Using TensorFlow backend.\n"
     ]
    }
   ],
   "source": [
    "# https://keras.io/\n",
    "!pip install -q keras\n",
    "import keras"
   ]
  },
  {
   "cell_type": "code",
   "execution_count": 1,
   "metadata": {
    "colab": {
     "autoexec": {
      "startup": false,
      "wait_interval": 0
     }
    },
    "colab_type": "code",
    "id": "KQyjF0WaDYHp"
   },
   "outputs": [
    {
     "name": "stderr",
     "output_type": "stream",
     "text": [
      "C:\\Users\\Aashish Ranjan\\Anaconda3\\lib\\site-packages\\h5py\\__init__.py:36: FutureWarning: Conversion of the second argument of issubdtype from `float` to `np.floating` is deprecated. In future, it will be treated as `np.float64 == np.dtype(float).type`.\n",
      "  from ._conv import register_converters as _register_converters\n",
      "Using TensorFlow backend.\n"
     ]
    }
   ],
   "source": [
    "import numpy as np\n",
    "\n",
    "from keras.models import Sequential\n",
    "from keras.layers import Dense, Dropout, Activation, Flatten, Add\n",
    "from keras.layers import Convolution2D, MaxPooling2D\n",
    "from keras.utils import np_utils\n",
    "from keras.datasets import mnist\n",
    "\n",
    "from matplotlib import pyplot as plt\n",
    "%matplotlib inline"
   ]
  },
  {
   "cell_type": "code",
   "execution_count": 2,
   "metadata": {
    "colab": {
     "autoexec": {
      "startup": false,
      "wait_interval": 0
     }
    },
    "colab_type": "code",
    "id": "A9EZpzsgEd-q"
   },
   "outputs": [
    {
     "name": "stdout",
     "output_type": "stream",
     "text": [
      "Downloading data from https://s3.amazonaws.com/img-datasets/mnist.npz\n",
      "11493376/11490434 [==============================] - 26s 2us/step\n"
     ]
    }
   ],
   "source": [
    "(x_train, y_train),(x_test,y_test)=mnist.load_data()"
   ]
  },
  {
   "cell_type": "code",
   "execution_count": 57,
   "metadata": {
    "colab": {
     "autoexec": {
      "startup": false,
      "wait_interval": 0
     },
     "base_uri": "https://localhost:8080/",
     "height": 299
    },
    "colab_type": "code",
    "executionInfo": {
     "elapsed": 1133,
     "status": "ok",
     "timestamp": 1525349459915,
     "user": {
      "displayName": "ashish ranjan",
      "photoUrl": "//lh6.googleusercontent.com/-toGK4s0e7_Y/AAAAAAAAAAI/AAAAAAAAEwY/dIdQ8V-oKPQ/s50-c-k-no/photo.jpg",
      "userId": "115059506040310042480"
     },
     "user_tz": -330
    },
    "id": "oTSKoyK5E5-E",
    "outputId": "d4d6ba97-56e6-4de3-db52-76c090020c98"
   },
   "outputs": [
    {
     "name": "stdout",
     "output_type": "stream",
     "text": [
      "(60000, 28, 28)\n"
     ]
    },
    {
     "data": {
      "text/plain": [
       "<matplotlib.image.AxesImage at 0x7f98df7f8048>"
      ]
     },
     "execution_count": 57,
     "metadata": {
      "tags": []
     },
     "output_type": "execute_result"
    },
    {
     "data": {
      "image/png": "[encoded data removed]",
      "text/plain": [
       "<matplotlib.figure.Figure at 0x7f98df841208>"
      ]
     },
     "metadata": {
      "tags": []
     },
     "output_type": "display_data"
    }
   ],
   "source": [
    "print(x_train.shape)\n",
    "plt.imshow(x_train[1])"
   ]
  },
  {
   "cell_type": "code",
   "execution_count": 0,
   "metadata": {
    "colab": {
     "autoexec": {
      "startup": false,
      "wait_interval": 0
     }
    },
    "colab_type": "code",
    "id": "YFDP6QgaFp3R"
   },
   "outputs": [],
   "source": [
    "x_train = x_train.reshape(x_train.shape[0],28,28,1)\n",
    "x_test = x_test.reshape(x_test.shape[0],28,28,1)"
   ]
  },
  {
   "cell_type": "code",
   "execution_count": 0,
   "metadata": {
    "colab": {
     "autoexec": {
      "startup": false,
      "wait_interval": 0
     }
    },
    "colab_type": "code",
    "id": "vHeS6-cCGHvw"
   },
   "outputs": [],
   "source": [
    "x_train = x_train.astype('float32')\n",
    "x_test = x_test.astype('float32')\n",
    "x_train /= 255\n",
    "x_test /= 255"
   ]
  },
  {
   "cell_type": "code",
   "execution_count": 60,
   "metadata": {
    "colab": {
     "autoexec": {
      "startup": false,
      "wait_interval": 0
     },
     "base_uri": "https://localhost:8080/",
     "height": 34
    },
    "colab_type": "code",
    "executionInfo": {
     "elapsed": 1044,
     "status": "ok",
     "timestamp": 1525349472034,
     "user": {
      "displayName": "ashish ranjan",
      "photoUrl": "//lh6.googleusercontent.com/-toGK4s0e7_Y/AAAAAAAAAAI/AAAAAAAAEwY/dIdQ8V-oKPQ/s50-c-k-no/photo.jpg",
      "userId": "115059506040310042480"
     },
     "user_tz": -330
    },
    "id": "cBH3Ww9FGeuU",
    "outputId": "736aa464-8876-48f3-e01b-3c8ff466abf1"
   },
   "outputs": [
    {
     "data": {
      "text/plain": [
       "array([5, 0, 4, 1, 9, 2, 1, 3, 1, 4], dtype=uint8)"
      ]
     },
     "execution_count": 60,
     "metadata": {
      "tags": []
     },
     "output_type": "execute_result"
    }
   ],
   "source": [
    "y_train[:10]"
   ]
  },
  {
   "cell_type": "code",
   "execution_count": 0,
   "metadata": {
    "colab": {
     "autoexec": {
      "startup": false,
      "wait_interval": 0
     }
    },
    "colab_type": "code",
    "id": "z0N1Spu-HF3E"
   },
   "outputs": [],
   "source": [
    "Y_train = np_utils.to_categorical(y_train,10)\n",
    "Y_test = np_utils.to_categorical(y_test,10)"
   ]
  },
  {
   "cell_type": "code",
   "execution_count": 62,
   "metadata": {
    "colab": {
     "autoexec": {
      "startup": false,
      "wait_interval": 0
     },
     "base_uri": "https://localhost:8080/",
     "height": 187
    },
    "colab_type": "code",
    "executionInfo": {
     "elapsed": 1356,
     "status": "ok",
     "timestamp": 1525349482014,
     "user": {
      "displayName": "ashish ranjan",
      "photoUrl": "//lh6.googleusercontent.com/-toGK4s0e7_Y/AAAAAAAAAAI/AAAAAAAAEwY/dIdQ8V-oKPQ/s50-c-k-no/photo.jpg",
      "userId": "115059506040310042480"
     },
     "user_tz": -330
    },
    "id": "x8BGhYCgHqfK",
    "outputId": "e76b6d3f-0246-4676-ae1b-d65b0a220482"
   },
   "outputs": [
    {
     "data": {
      "text/plain": [
       "array([[0., 0., 0., 0., 0., 1., 0., 0., 0., 0.],\n",
       "       [1., 0., 0., 0., 0., 0., 0., 0., 0., 0.],\n",
       "       [0., 0., 0., 0., 1., 0., 0., 0., 0., 0.],\n",
       "       [0., 1., 0., 0., 0., 0., 0., 0., 0., 0.],\n",
       "       [0., 0., 0., 0., 0., 0., 0., 0., 0., 1.],\n",
       "       [0., 0., 1., 0., 0., 0., 0., 0., 0., 0.],\n",
       "       [0., 1., 0., 0., 0., 0., 0., 0., 0., 0.],\n",
       "       [0., 0., 0., 1., 0., 0., 0., 0., 0., 0.],\n",
       "       [0., 1., 0., 0., 0., 0., 0., 0., 0., 0.],\n",
       "       [0., 0., 0., 0., 1., 0., 0., 0., 0., 0.]], dtype=float32)"
      ]
     },
     "execution_count": 62,
     "metadata": {
      "tags": []
     },
     "output_type": "execute_result"
    }
   ],
   "source": [
    "Y_train[:10]"
   ]
  },
  {
   "cell_type": "code",
   "execution_count": 222,
   "metadata": {
    "colab": {
     "autoexec": {
      "startup": false,
      "wait_interval": 0
     },
     "base_uri": "https://localhost:8080/",
     "height": 71
    },
    "colab_type": "code",
    "executionInfo": {
     "elapsed": 1055,
     "status": "ok",
     "timestamp": 1525360546050,
     "user": {
      "displayName": "ashish ranjan",
      "photoUrl": "//lh6.googleusercontent.com/-toGK4s0e7_Y/AAAAAAAAAAI/AAAAAAAAEwY/dIdQ8V-oKPQ/s50-c-k-no/photo.jpg",
      "userId": "115059506040310042480"
     },
     "user_tz": -330
    },
    "id": "Czq-BHG6HqiL",
    "outputId": "ee9a7194-d090-4198-a07d-218714645471"
   },
   "outputs": [
    {
     "name": "stderr",
     "output_type": "stream",
     "text": [
      "/usr/local/lib/python3.6/dist-packages/ipykernel_launcher.py:3: UserWarning: Update your `Conv2D` call to the Keras 2 API: `Conv2D(32, (7, 7), activation=\"relu\", input_shape=(28, 28, 1...)`\n",
      "  This is separate from the ipykernel package so we can avoid doing imports until\n"
     ]
    }
   ],
   "source": [
    "model=Sequential()\n",
    "\n",
    "model.add(Convolution2D(32, 7, 7, activation='relu', input_shape=(28,28,1)))\n",
    "model.add(Dropout(0.2))\n",
    "model.add(MaxPooling2D(pool_size=(2, 2)))\n",
    "model.add(Convolution2D(10, 1, activation='relu'))\n",
    "model.add(Dense(32))\n",
    "model.add(Activation(\"relu\"))\n",
    "model.add(Dropout(0.2))\n",
    "model.add(Convolution2D(10, 11))\n",
    "model.add(Flatten())\n",
    "model.add(Activation('softmax'))"
   ]
  },
  {
   "cell_type": "code",
   "execution_count": 223,
   "metadata": {
    "colab": {
     "autoexec": {
      "startup": false,
      "wait_interval": 0
     },
     "base_uri": "https://localhost:8080/",
     "height": 578
    },
    "colab_type": "code",
    "executionInfo": {
     "elapsed": 1020,
     "status": "ok",
     "timestamp": 1525360549519,
     "user": {
      "displayName": "ashish ranjan",
      "photoUrl": "//lh6.googleusercontent.com/-toGK4s0e7_Y/AAAAAAAAAAI/AAAAAAAAEwY/dIdQ8V-oKPQ/s50-c-k-no/photo.jpg",
      "userId": "115059506040310042480"
     },
     "user_tz": -330
    },
    "id": "ACOncooTIwrG",
    "outputId": "4f2935c6-13bb-4145-d40d-6de4487df9b2"
   },
   "outputs": [
    {
     "name": "stdout",
     "output_type": "stream",
     "text": [
      "_________________________________________________________________\n",
      "Layer (type)                 Output Shape              Param #   \n",
      "=================================================================\n",
      "conv2d_155 (Conv2D)          (None, 22, 22, 32)        1600      \n",
      "_________________________________________________________________\n",
      "dropout_14 (Dropout)         (None, 22, 22, 32)        0         \n",
      "_________________________________________________________________\n",
      "max_pooling2d_39 (MaxPooling (None, 11, 11, 32)        0         \n",
      "_________________________________________________________________\n",
      "conv2d_156 (Conv2D)          (None, 11, 11, 10)        330       \n",
      "_________________________________________________________________\n",
      "dense_9 (Dense)              (None, 11, 11, 32)        352       \n",
      "_________________________________________________________________\n",
      "activation_50 (Activation)   (None, 11, 11, 32)        0         \n",
      "_________________________________________________________________\n",
      "dropout_15 (Dropout)         (None, 11, 11, 32)        0         \n",
      "_________________________________________________________________\n",
      "dense_10 (Dense)             (None, 11, 11, 32)        1056      \n",
      "_________________________________________________________________\n",
      "activation_51 (Activation)   (None, 11, 11, 32)        0         \n",
      "_________________________________________________________________\n",
      "dropout_16 (Dropout)         (None, 11, 11, 32)        0         \n",
      "_________________________________________________________________\n",
      "conv2d_157 (Conv2D)          (None, 1, 1, 10)          38730     \n",
      "_________________________________________________________________\n",
      "flatten_42 (Flatten)         (None, 10)                0         \n",
      "_________________________________________________________________\n",
      "activation_52 (Activation)   (None, 10)                0         \n",
      "=================================================================\n",
      "Total params: 42,068\n",
      "Trainable params: 42,068\n",
      "Non-trainable params: 0\n",
      "_________________________________________________________________\n"
     ]
    }
   ],
   "source": [
    "model.summary()"
   ]
  },
  {
   "cell_type": "code",
   "execution_count": 0,
   "metadata": {
    "colab": {
     "autoexec": {
      "startup": false,
      "wait_interval": 0
     }
    },
    "colab_type": "code",
    "id": "W4RQquAtI02f"
   },
   "outputs": [],
   "source": [
    "model.compile(loss='categorical_crossentropy',\n",
    "             optimizer='adam',\n",
    "             metrics=['accuracy'])"
   ]
  },
  {
   "cell_type": "code",
   "execution_count": 226,
   "metadata": {
    "colab": {
     "autoexec": {
      "startup": false,
      "wait_interval": 0
     },
     "base_uri": "https://localhost:8080/",
     "height": 428
    },
    "colab_type": "code",
    "executionInfo": {
     "elapsed": 795584,
     "status": "ok",
     "timestamp": 1525362147482,
     "user": {
      "displayName": "ashish ranjan",
      "photoUrl": "//lh6.googleusercontent.com/-toGK4s0e7_Y/AAAAAAAAAAI/AAAAAAAAEwY/dIdQ8V-oKPQ/s50-c-k-no/photo.jpg",
      "userId": "115059506040310042480"
     },
     "user_tz": -330
    },
    "id": "rAKCUzcvJVRg",
    "outputId": "2a8b71bb-8079-4a99-e87c-c86dc5173022"
   },
   "outputs": [
    {
     "name": "stdout",
     "output_type": "stream",
     "text": [
      "Epoch 1/10\n",
      "   96/60000 [..............................] - ETA: 1:17 - loss: 0.0064 - acc: 1.0000"
     ]
    },
    {
     "name": "stderr",
     "output_type": "stream",
     "text": [
      "/usr/local/lib/python3.6/dist-packages/keras/models.py:981: UserWarning: The `nb_epoch` argument in `fit` has been renamed `epochs`.\n",
      "  warnings.warn('The `nb_epoch` argument in `fit` '\n"
     ]
    },
    {
     "name": "stdout",
     "output_type": "stream",
     "text": [
      "60000/60000 [==============================] - 80s 1ms/step - loss: 0.0278 - acc: 0.9910\n",
      "Epoch 2/10\n",
      " 6016/60000 [==>...........................] - ETA: 1:11 - loss: 0.0194 - acc: 0.994860000/60000 [==============================] - 79s 1ms/step - loss: 0.0262 - acc: 0.9916\n",
      "Epoch 3/10\n",
      " 8832/60000 [===>..........................] - ETA: 1:07 - loss: 0.0205 - acc: 0.993360000/60000 [==============================] - 79s 1ms/step - loss: 0.0251 - acc: 0.9918\n",
      "Epoch 4/10\n",
      "10016/60000 [====>.........................] - ETA: 1:06 - loss: 0.0207 - acc: 0.993160000/60000 [==============================] - 79s 1ms/step - loss: 0.0232 - acc: 0.9920\n",
      "Epoch 5/10\n",
      "10432/60000 [====>.........................] - ETA: 1:05 - loss: 0.0213 - acc: 0.993560000/60000 [==============================] - 80s 1ms/step - loss: 0.0219 - acc: 0.9929\n",
      "Epoch 6/10\n",
      "10656/60000 [====>.........................] - ETA: 1:05 - loss: 0.0173 - acc: 0.994660000/60000 [==============================] - 79s 1ms/step - loss: 0.0223 - acc: 0.9929\n",
      "Epoch 7/10\n",
      "11072/60000 [====>.........................] - ETA: 1:04 - loss: 0.0166 - acc: 0.994160000/60000 [==============================] - 79s 1ms/step - loss: 0.0201 - acc: 0.9933\n",
      "Epoch 8/10\n",
      "10784/60000 [====>.........................] - ETA: 1:05 - loss: 0.0185 - acc: 0.993860000/60000 [==============================] - 79s 1ms/step - loss: 0.0196 - acc: 0.9931\n",
      "Epoch 9/10\n",
      "10912/60000 [====>.........................] - ETA: 1:05 - loss: 0.0157 - acc: 0.995060000/60000 [==============================] - 80s 1ms/step - loss: 0.0189 - acc: 0.9940\n",
      "Epoch 10/10\n",
      "10880/60000 [====>.........................] - ETA: 1:04 - loss: 0.0192 - acc: 0.993860000/60000 [==============================] - 79s 1ms/step - loss: 0.0179 - acc: 0.9939\n"
     ]
    },
    {
     "data": {
      "text/plain": [
       "<keras.callbacks.History at 0x7f98d89e29b0>"
      ]
     },
     "execution_count": 226,
     "metadata": {
      "tags": []
     },
     "output_type": "execute_result"
    }
   ],
   "source": [
    "model.fit(x_train, Y_train, batch_size=32, nb_epoch=10, verbose=1)"
   ]
  },
  {
   "cell_type": "code",
   "execution_count": 227,
   "metadata": {
    "colab": {
     "autoexec": {
      "startup": false,
      "wait_interval": 0
     },
     "base_uri": "https://localhost:8080/",
     "height": 34
    },
    "colab_type": "code",
    "executionInfo": {
     "elapsed": 6110,
     "status": "ok",
     "timestamp": 1525362165591,
     "user": {
      "displayName": "ashish ranjan",
      "photoUrl": "//lh6.googleusercontent.com/-toGK4s0e7_Y/AAAAAAAAAAI/AAAAAAAAEwY/dIdQ8V-oKPQ/s50-c-k-no/photo.jpg",
      "userId": "115059506040310042480"
     },
     "user_tz": -330
    },
    "id": "HLvdqOaULcHP",
    "outputId": "a475c569-787a-45cc-a427-c465b6bda844"
   },
   "outputs": [
    {
     "name": "stdout",
     "output_type": "stream",
     "text": [
      "10000/10000 [==============================] - 5s 543us/step\n"
     ]
    }
   ],
   "source": [
    "score = model.evaluate(x_test, Y_test, verbose=1)"
   ]
  },
  {
   "cell_type": "code",
   "execution_count": 228,
   "metadata": {
    "colab": {
     "autoexec": {
      "startup": false,
      "wait_interval": 0
     },
     "base_uri": "https://localhost:8080/",
     "height": 34
    },
    "colab_type": "code",
    "executionInfo": {
     "elapsed": 1047,
     "status": "ok",
     "timestamp": 1525362167451,
     "user": {
      "displayName": "ashish ranjan",
      "photoUrl": "//lh6.googleusercontent.com/-toGK4s0e7_Y/AAAAAAAAAAI/AAAAAAAAEwY/dIdQ8V-oKPQ/s50-c-k-no/photo.jpg",
      "userId": "115059506040310042480"
     },
     "user_tz": -330
    },
    "id": "Xfg5tr2gL3K7",
    "outputId": "d2a935b7-2997-40d9-865b-c0a08657a0f7"
   },
   "outputs": [
    {
     "name": "stdout",
     "output_type": "stream",
     "text": [
      "[0.028313269265579585, 0.9913]\n"
     ]
    }
   ],
   "source": [
    "print(score)"
   ]
  },
  {
   "cell_type": "code",
   "execution_count": 0,
   "metadata": {
    "colab": {
     "autoexec": {
      "startup": false,
      "wait_interval": 0
     }
    },
    "colab_type": "code",
    "id": "jREWuUxfL9dz"
   },
   "outputs": [],
   "source": [
    "y_pred = model.predict(x_test)"
   ]
  },
  {
   "cell_type": "code",
   "execution_count": 27,
   "metadata": {
    "colab": {
     "autoexec": {
      "startup": false,
      "wait_interval": 0
     },
     "base_uri": "https://localhost:8080/",
     "height": 340
    },
    "colab_type": "code",
    "executionInfo": {
     "elapsed": 1044,
     "status": "ok",
     "timestamp": 1525347162047,
     "user": {
      "displayName": "ashish ranjan",
      "photoUrl": "//lh6.googleusercontent.com/-toGK4s0e7_Y/AAAAAAAAAAI/AAAAAAAAEwY/dIdQ8V-oKPQ/s50-c-k-no/photo.jpg",
      "userId": "115059506040310042480"
     },
     "user_tz": -330
    },
    "id": "R6kt9gMGxoXY",
    "outputId": "c51557d8-55b0-4e0c-8ab8-89769e6cdd6a"
   },
   "outputs": [
    {
     "name": "stdout",
     "output_type": "stream",
     "text": [
      "[[1.2418419e-36 2.4028171e-35 3.4933461e-27 2.4577850e-17 1.3857600e-37\n",
      "  9.2194551e-33 0.0000000e+00 1.0000000e+00 3.5712058e-23 4.4651528e-23]\n",
      " [3.3882095e-17 9.4602371e-22 1.0000000e+00 1.3891009e-20 0.0000000e+00\n",
      "  3.6626641e-31 7.9331626e-13 0.0000000e+00 1.6407045e-21 5.4664873e-28]\n",
      " [5.9166768e-15 1.0000000e+00 2.4026168e-11 7.0369833e-15 2.1581855e-08\n",
      "  7.2592222e-16 1.4446831e-14 4.3870307e-12 7.8512852e-10 3.3099349e-18]\n",
      " [1.0000000e+00 4.5648019e-31 6.3314855e-16 5.7136371e-29 1.1419527e-31\n",
      "  4.6015152e-24 4.5007492e-19 1.2984828e-22 1.9258911e-21 2.2022985e-22]\n",
      " [2.6393251e-24 5.9433160e-33 1.2130450e-24 8.8322180e-22 1.0000000e+00\n",
      "  1.4702633e-29 9.9720945e-28 6.8775447e-21 1.4922639e-17 4.6175552e-15]\n",
      " [7.8535412e-19 1.0000000e+00 5.5497709e-15 2.8450507e-17 1.2016970e-08\n",
      "  4.5165480e-22 2.2666968e-18 3.3071558e-08 2.0435618e-09 3.2187037e-17]\n",
      " [0.0000000e+00 3.3053126e-25 3.1040359e-17 3.0653444e-18 9.9984205e-01\n",
      "  1.1625286e-18 8.3966425e-32 5.5569590e-17 1.5775239e-04 1.7376752e-07]\n",
      " [0.0000000e+00 1.6986544e-27 4.7043720e-23 7.6672140e-22 1.2436400e-11\n",
      "  1.7546063e-15 5.5667144e-37 1.8713619e-24 9.1215530e-15 1.0000000e+00]\n",
      " [6.2707722e-20 3.1518409e-37 1.4735905e-30 1.0306284e-24 7.2239290e-26\n",
      "  1.3111961e-01 8.6888033e-01 1.3071008e-34 1.7081442e-10 5.2522864e-23]]\n",
      "[7 2 1 0 4 1 4 9 5]\n"
     ]
    }
   ],
   "source": [
    "print(y_pred[:9])\n",
    "print(y_test[:9])"
   ]
  }
 ],
 "metadata": {
  "colab": {
   "default_view": {},
   "name": "Assignment_4A.ipynb",
   "provenance": [],
   "version": "0.3.2",
   "views": {}
  },
  "kernelspec": {
   "display_name": "Python 3",
   "language": "python",
   "name": "python3"
  },
  "language_info": {
   "codemirror_mode": {
    "name": "ipython",
    "version": 3
   },
   "file_extension": ".py",
   "mimetype": "text/x-python",
   "name": "python",
   "nbconvert_exporter": "python",
   "pygments_lexer": "ipython3",
   "version": "3.5.5"
  },
  "widgets": {
   "state": {},
   "version": "1.1.2"
  }
 },
 "nbformat": 4,
 "nbformat_minor": 1
}
